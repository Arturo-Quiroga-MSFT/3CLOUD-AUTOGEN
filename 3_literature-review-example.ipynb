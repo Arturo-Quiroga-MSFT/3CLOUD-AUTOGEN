{
 "cells": [
  {
   "cell_type": "code",
   "execution_count": 1,
   "id": "e9d141e9",
   "metadata": {},
   "outputs": [],
   "source": [
    "#%pip install -U \"autogen-agentchat\"\n",
    "#%pip install -U \"autogen-agentchat[azure]\"\n",
    "#%pip install -U autogenstudio\n",
    "\n"
   ]
  },
  {
   "cell_type": "code",
   "execution_count": 2,
   "id": "7872229c",
   "metadata": {},
   "outputs": [],
   "source": [
    "from autogen_agentchat.agents import AssistantAgent\n",
    "from autogen_agentchat.conditions import TextMentionTermination\n",
    "from autogen_agentchat.teams import RoundRobinGroupChat\n",
    "from autogen_agentchat.ui import Console\n",
    "from autogen_ext.models.openai import AzureOpenAIChatCompletionClient\n",
    "from autogen_core.tools import FunctionTool\n"
   ]
  },
  {
   "cell_type": "code",
   "execution_count": 3,
   "id": "264272e7",
   "metadata": {},
   "outputs": [],
   "source": [
    "\n",
    "model_client = AzureOpenAIChatCompletionClient(\n",
    "    azure_deployment=\"gpt-4o\",\n",
    "    azure_endpoint=\"https://aq-aoai-swedencentral.openai.azure.com/\",\n",
    "    model=\"gpt-4o\",\n",
    "    api_version=\"2025-03-01-preview\",\n",
    "    api_key=\"3ShjYyRHd6t0VthIuoOUe1GEnwlj1tkNSHkOs6IrO1CxKQ3gHmsIJQQJ99BAACfhMk5XJ3w3AAABACOG3ddZ\",\n",
    "    temperature=0.7,\n",
    ")\n"
   ]
  },
  {
   "cell_type": "code",
   "execution_count": null,
   "id": "6d786347",
   "metadata": {},
   "outputs": [
    {
     "name": "stdout",
     "output_type": "stream",
     "text": [
      "Requirement already satisfied: arxiv in ./.venv/lib/python3.13/site-packages (2.2.0)\n",
      "Requirement already satisfied: feedparser~=6.0.10 in ./.venv/lib/python3.13/site-packages (from arxiv) (6.0.11)\n",
      "Requirement already satisfied: requests~=2.32.0 in ./.venv/lib/python3.13/site-packages (from arxiv) (2.32.3)\n",
      "Requirement already satisfied: sgmllib3k in ./.venv/lib/python3.13/site-packages (from feedparser~=6.0.10->arxiv) (1.0.0)\n",
      "Requirement already satisfied: charset-normalizer<4,>=2 in ./.venv/lib/python3.13/site-packages (from requests~=2.32.0->arxiv) (3.4.1)\n",
      "Requirement already satisfied: idna<4,>=2.5 in ./.venv/lib/python3.13/site-packages (from requests~=2.32.0->arxiv) (3.10)\n",
      "Requirement already satisfied: urllib3<3,>=1.21.1 in ./.venv/lib/python3.13/site-packages (from requests~=2.32.0->arxiv) (2.4.0)\n",
      "Requirement already satisfied: certifi>=2017.4.17 in ./.venv/lib/python3.13/site-packages (from requests~=2.32.0->arxiv) (2025.1.31)\n",
      "Note: you may need to restart the kernel to use updated packages.\n"
     ]
    }
   ],
   "source": [
    "#%pip install arxiv\n"
   ]
  },
  {
   "cell_type": "code",
   "execution_count": null,
   "id": "66bf7ac6",
   "metadata": {},
   "outputs": [],
   "source": [
    "def google_search(query: str, num_results: int = 2, max_chars: int = 500) -> list:  # type: ignore[type-arg]\n",
    "    import os\n",
    "    import time\n",
    "\n",
    "    import requests\n",
    "    from bs4 import BeautifulSoup\n",
    "    from dotenv import load_dotenv\n",
    "\n",
    "    load_dotenv()\n",
    "\n",
    "    api_key = os.getenv(\"GOOGLE_API_KEY\")\n",
    "    search_engine_id = os.getenv(\"GOOGLE_SEARCH_ENGINE_ID\")\n",
    "\n",
    "    if not api_key or not search_engine_id:\n",
    "        raise ValueError(\"API key or Search Engine ID not found in environment variables\")\n",
    "\n",
    "    url = \"https://www.googleapis.com/customsearch/v1\"\n",
    "    params = {\"key\": api_key, \"cx\": search_engine_id, \"q\": query, \"num\": num_results}\n",
    "\n",
    "    response = requests.get(url, params=params)  # type: ignore[arg-type]\n",
    "\n",
    "    if response.status_code != 200:\n",
    "        print(response.json())\n",
    "        raise Exception(f\"Error in API request: {response.status_code}\")\n",
    "\n",
    "    results = response.json().get(\"items\", [])\n",
    "\n",
    "    def get_page_content(url: str) -> str:\n",
    "        try:\n",
    "            response = requests.get(url, timeout=10)\n",
    "            soup = BeautifulSoup(response.content, \"html.parser\")\n",
    "            text = soup.get_text(separator=\" \", strip=True)\n",
    "            words = text.split()\n",
    "            content = \"\"\n",
    "            for word in words:\n",
    "                if len(content) + len(word) + 1 > max_chars:\n",
    "                    break\n",
    "                content += \" \" + word\n",
    "            return content.strip()\n",
    "        except Exception as e:\n",
    "            print(f\"Error fetching {url}: {str(e)}\")\n",
    "            return \"\"\n",
    "\n",
    "    enriched_results = []\n",
    "    for item in results:\n",
    "        body = get_page_content(item[\"link\"])\n",
    "        enriched_results.append(\n",
    "            {\"title\": item[\"title\"], \"link\": item[\"link\"], \"snippet\": item[\"snippet\"], \"body\": body}\n",
    "        )\n",
    "        time.sleep(1)  # Be respectful to the servers\n",
    "\n",
    "    return enriched_results\n",
    "\n",
    "\n",
    "\n"
   ]
  },
  {
   "cell_type": "code",
   "execution_count": 6,
   "id": "9019e6e9",
   "metadata": {},
   "outputs": [],
   "source": [
    "def arxiv_search(query: str, max_results: int = 2) -> list:  # type: ignore[type-arg]\n",
    "    \"\"\"\n",
    "    Search Arxiv for papers and return the results including abstracts.\n",
    "    \"\"\"\n",
    "    import arxiv\n",
    "\n",
    "    client = arxiv.Client()\n",
    "    search = arxiv.Search(query=query, max_results=max_results, sort_by=arxiv.SortCriterion.Relevance)\n",
    "\n",
    "    results = []\n",
    "    for paper in client.results(search):\n",
    "        results.append(\n",
    "            {\n",
    "                \"title\": paper.title,\n",
    "                \"authors\": [author.name for author in paper.authors],\n",
    "                \"published\": paper.published.strftime(\"%Y-%m-%d\"),\n",
    "                \"abstract\": paper.summary,\n",
    "                \"pdf_url\": paper.pdf_url,\n",
    "            }\n",
    "        )\n",
    "\n",
    "    # # Write results to a file\n",
    "    # with open('arxiv_search_results.json', 'w') as f:\n",
    "    #     json.dump(results, f, indent=2)\n",
    "\n",
    "    return results"
   ]
  },
  {
   "cell_type": "code",
   "execution_count": 7,
   "id": "d482fc5b",
   "metadata": {},
   "outputs": [],
   "source": [
    "google_search_tool = FunctionTool(\n",
    "    google_search, description=\"Search Google for information, returns results with a snippet and body content\"\n",
    ")\n",
    "arxiv_search_tool = FunctionTool(\n",
    "    arxiv_search, description=\"Search Arxiv for papers related to a given topic, including abstracts\"\n",
    ")\n"
   ]
  },
  {
   "cell_type": "code",
   "execution_count": 9,
   "id": "17901e52",
   "metadata": {},
   "outputs": [],
   "source": [
    "\n",
    "\n",
    "google_search_agent = AssistantAgent(\n",
    "    name=\"Google_Search_Agent\",\n",
    "    tools=[google_search_tool],\n",
    "    model_client=model_client,\n",
    "    description=\"An agent that can search Google for information, returns results with a snippet and body content\",\n",
    "    system_message=\"You are a helpful AI assistant. Solve tasks using your tools.\",\n",
    ")\n",
    "\n",
    "arxiv_search_agent = AssistantAgent(\n",
    "    name=\"Arxiv_Search_Agent\",\n",
    "    tools=[arxiv_search_tool],\n",
    "    model_client=model_client,\n",
    "    description=\"An agent that can search Arxiv for papers related to a given topic, including abstracts\",\n",
    "    system_message=\"You are a helpful AI assistant. Solve tasks using your tools. Specifically, you can take into consideration the user's request and craft a search query that is most likely to return relevant academi papers.\",\n",
    ")\n",
    "\n",
    "\n",
    "report_agent = AssistantAgent(\n",
    "    name=\"Report_Agent\",\n",
    "    model_client=model_client,\n",
    "    description=\"Generate a report based on a given topic\",\n",
    "    system_message=\"You are a helpful assistant. Your task is to synthesize data extracted into a high quality literature review including CORRECT references. You MUST write a final report that is formatted as a literature review with CORRECT references.  Your response should end with the word 'TERMINATE'\",\n",
    ")\n"
   ]
  },
  {
   "cell_type": "code",
   "execution_count": 10,
   "id": "91254204",
   "metadata": {},
   "outputs": [],
   "source": [
    "termination = TextMentionTermination(\"TERMINATE\")\n",
    "team = RoundRobinGroupChat(\n",
    "    participants=[google_search_agent, arxiv_search_agent, report_agent], termination_condition=termination\n",
    ")\n"
   ]
  },
  {
   "cell_type": "code",
   "execution_count": 11,
   "id": "d72c77f5",
   "metadata": {},
   "outputs": [
    {
     "name": "stdout",
     "output_type": "stream",
     "text": [
      "---------- user ----------\n",
      "Write a literature review on no code tools for building multi agent ai systems\n",
      "---------- Google_Search_Agent ----------\n",
      "[FunctionCall(id='call_IGmEnd3nUtXU1u3qD2rTZbVU', arguments='{\"query\":\"literature review on no-code tools for building multi-agent AI systems\",\"num_results\":2}', name='google_search')]\n"
     ]
    },
    {
     "name": "stderr",
     "output_type": "stream",
     "text": [
      "/Users/arturoquiroga/AUTOGEN for 3CLOUD/.venv/lib/python3.13/site-packages/autogen_agentchat/agents/_assistant_agent.py:870: UserWarning: Resolved model mismatch: gpt-4o-2024-08-06 != gpt-4o-2024-11-20. Model mapping in autogen_ext.models.openai may be incorrect. Set the model to gpt-4o-2024-11-20 to enhance token/cost estimation and suppress this warning.\n",
      "  model_result = await model_client.create(\n"
     ]
    },
    {
     "name": "stdout",
     "output_type": "stream",
     "text": [
      "---------- Google_Search_Agent ----------\n",
      "[FunctionExecutionResult(content='[{\\'title\\': \\'Literature Review — AutoGen\\', \\'link\\': \\'https://microsoft.github.io/autogen/dev//user-guide/agentchat-user-guide/examples/literature-review.html\\', \\'snippet\\': \\'... literature review on no code tools for building multi agent ai systems\", ) ... ### Conclusion No-code tools for building multi-agent AI systems\\\\\\\\\\\\\\\\xa0\\\\xa0...\\', \\'body\\': \\'Literature Review — AutoGen Skip to main content Back to top Ctrl + K Choose version AgentChat Core Extensions Studio API Reference .NET More 0.2 Docs Search Ctrl + K GitHub Discord Twitter Search Ctrl + K AgentChat Core Extensions Studio API Reference .NET 0.2 Docs GitHub Discord Twitter Installation Quickstart Migration Guide for v0.2 to v0.4 Tutorial Introduction Models Messages Agents Teams Human-in-the-Loop Termination Managing State Advanced Custom Agents Selector Group Chat Swarm\\'}, {\\'title\\': \\'Best 5 Frameworks To Build Multi-Agent AI Applications\\', \\'link\\': \\'https://getstream.io/blog/multiagent-ai-frameworks/\\', \\'snippet\\': \\'Nov 25, 2024 ... This article aims to help you build AI agents powered by memory, knowledgebase, tools, and reasoning and chat with them using the command line and beautiful\\\\xa0...\\', \\'body\\': \\'Best 5 Frameworks To Build Multi-Agent AI Applications Products Solutions Developers Company Pricing Contact Log in Back Products Chat Messaging Build real-time chat messaging in less time Video & Audio Reliable in-app video calling and livestreaming Activity Feeds Grow engagement with enterprise-ready feeds Advanced Add-Ons and Integrations AI Moderation Find, monitor, and resolve harmful content easily AI ChatBot Integration Integrate AI into your Stream chat messaging app Solutions -> AI\\'}]', name='google_search', call_id='call_IGmEnd3nUtXU1u3qD2rTZbVU', is_error=False)]\n",
      "---------- Google_Search_Agent ----------\n",
      "[{'title': 'Literature Review — AutoGen', 'link': 'https://microsoft.github.io/autogen/dev//user-guide/agentchat-user-guide/examples/literature-review.html', 'snippet': '... literature review on no code tools for building multi agent ai systems\", ) ... ### Conclusion No-code tools for building multi-agent AI systems\\\\\\\\xa0\\xa0...', 'body': 'Literature Review — AutoGen Skip to main content Back to top Ctrl + K Choose version AgentChat Core Extensions Studio API Reference .NET More 0.2 Docs Search Ctrl + K GitHub Discord Twitter Search Ctrl + K AgentChat Core Extensions Studio API Reference .NET 0.2 Docs GitHub Discord Twitter Installation Quickstart Migration Guide for v0.2 to v0.4 Tutorial Introduction Models Messages Agents Teams Human-in-the-Loop Termination Managing State Advanced Custom Agents Selector Group Chat Swarm'}, {'title': 'Best 5 Frameworks To Build Multi-Agent AI Applications', 'link': 'https://getstream.io/blog/multiagent-ai-frameworks/', 'snippet': 'Nov 25, 2024 ... This article aims to help you build AI agents powered by memory, knowledgebase, tools, and reasoning and chat with them using the command line and beautiful\\xa0...', 'body': 'Best 5 Frameworks To Build Multi-Agent AI Applications Products Solutions Developers Company Pricing Contact Log in Back Products Chat Messaging Build real-time chat messaging in less time Video & Audio Reliable in-app video calling and livestreaming Activity Feeds Grow engagement with enterprise-ready feeds Advanced Add-Ons and Integrations AI Moderation Find, monitor, and resolve harmful content easily AI ChatBot Integration Integrate AI into your Stream chat messaging app Solutions -> AI'}]\n",
      "[FunctionExecutionResult(content='[{\\'title\\': \\'Literature Review — AutoGen\\', \\'link\\': \\'https://microsoft.github.io/autogen/dev//user-guide/agentchat-user-guide/examples/literature-review.html\\', \\'snippet\\': \\'... literature review on no code tools for building multi agent ai systems\", ) ... ### Conclusion No-code tools for building multi-agent AI systems\\\\\\\\\\\\\\\\xa0\\\\xa0...\\', \\'body\\': \\'Literature Review — AutoGen Skip to main content Back to top Ctrl + K Choose version AgentChat Core Extensions Studio API Reference .NET More 0.2 Docs Search Ctrl + K GitHub Discord Twitter Search Ctrl + K AgentChat Core Extensions Studio API Reference .NET 0.2 Docs GitHub Discord Twitter Installation Quickstart Migration Guide for v0.2 to v0.4 Tutorial Introduction Models Messages Agents Teams Human-in-the-Loop Termination Managing State Advanced Custom Agents Selector Group Chat Swarm\\'}, {\\'title\\': \\'Best 5 Frameworks To Build Multi-Agent AI Applications\\', \\'link\\': \\'https://getstream.io/blog/multiagent-ai-frameworks/\\', \\'snippet\\': \\'Nov 25, 2024 ... This article aims to help you build AI agents powered by memory, knowledgebase, tools, and reasoning and chat with them using the command line and beautiful\\\\xa0...\\', \\'body\\': \\'Best 5 Frameworks To Build Multi-Agent AI Applications Products Solutions Developers Company Pricing Contact Log in Back Products Chat Messaging Build real-time chat messaging in less time Video & Audio Reliable in-app video calling and livestreaming Activity Feeds Grow engagement with enterprise-ready feeds Advanced Add-Ons and Integrations AI Moderation Find, monitor, and resolve harmful content easily AI ChatBot Integration Integrate AI into your Stream chat messaging app Solutions -> AI\\'}]', name='google_search', call_id='call_IGmEnd3nUtXU1u3qD2rTZbVU', is_error=False)]\n",
      "---------- Google_Search_Agent ----------\n",
      "[{'title': 'Literature Review — AutoGen', 'link': 'https://microsoft.github.io/autogen/dev//user-guide/agentchat-user-guide/examples/literature-review.html', 'snippet': '... literature review on no code tools for building multi agent ai systems\", ) ... ### Conclusion No-code tools for building multi-agent AI systems\\\\\\\\xa0\\xa0...', 'body': 'Literature Review — AutoGen Skip to main content Back to top Ctrl + K Choose version AgentChat Core Extensions Studio API Reference .NET More 0.2 Docs Search Ctrl + K GitHub Discord Twitter Search Ctrl + K AgentChat Core Extensions Studio API Reference .NET 0.2 Docs GitHub Discord Twitter Installation Quickstart Migration Guide for v0.2 to v0.4 Tutorial Introduction Models Messages Agents Teams Human-in-the-Loop Termination Managing State Advanced Custom Agents Selector Group Chat Swarm'}, {'title': 'Best 5 Frameworks To Build Multi-Agent AI Applications', 'link': 'https://getstream.io/blog/multiagent-ai-frameworks/', 'snippet': 'Nov 25, 2024 ... This article aims to help you build AI agents powered by memory, knowledgebase, tools, and reasoning and chat with them using the command line and beautiful\\xa0...', 'body': 'Best 5 Frameworks To Build Multi-Agent AI Applications Products Solutions Developers Company Pricing Contact Log in Back Products Chat Messaging Build real-time chat messaging in less time Video & Audio Reliable in-app video calling and livestreaming Activity Feeds Grow engagement with enterprise-ready feeds Advanced Add-Ons and Integrations AI Moderation Find, monitor, and resolve harmful content easily AI ChatBot Integration Integrate AI into your Stream chat messaging app Solutions -> AI'}]\n",
      "---------- Arxiv_Search_Agent ----------\n",
      "[FunctionCall(id='call_hTYppMGP2A74b8IYs4kfra8u', arguments='{\"query\":\"no code tools for building multi-agent AI systems\",\"max_results\":5}', name='arxiv_search')]\n",
      "---------- Arxiv_Search_Agent ----------\n",
      "[FunctionExecutionResult(content='[{\\'title\\': \\'Investigating and Designing for Trust in AI-powered Code Generation Tools\\', \\'authors\\': [\\'Ruotong Wang\\', \\'Ruijia Cheng\\', \\'Denae Ford\\', \\'Thomas Zimmermann\\'], \\'published\\': \\'2023-05-18\\', \\'abstract\\': \"As AI-powered code generation tools such as GitHub Copilot become popular, it\\\\nis crucial to understand software developers\\' trust in AI tools -- a key factor\\\\nfor tool adoption and responsible usage. However, we know little about how\\\\ndevelopers build trust with AI, nor do we understand how to design the\\\\ninterface of generative AI systems to facilitate their appropriate levels of\\\\ntrust. In this paper, we describe findings from a two-stage qualitative\\\\ninvestigation. We first interviewed 17 developers to contextualize their\\\\nnotions of trust and understand their challenges in building appropriate trust\\\\nin AI code generation tools. We surfaced three main challenges -- including\\\\nbuilding appropriate expectations, configuring AI tools, and validating AI\\\\nsuggestions. To address these challenges, we conducted a design probe study in\\\\nthe second stage to explore design concepts that support developers\\'\\\\ntrust-building process by 1) communicating AI performance to help users set\\\\nproper expectations, 2) allowing users to configure AI by setting and adjusting\\\\npreferences, and 3) offering indicators of model mechanism to support\\\\nevaluation of AI suggestions. We gathered developers\\' feedback on how these\\\\ndesign concepts can help them build appropriate trust in AI-powered code\\\\ngeneration tools, as well as potential risks in design. These findings inform\\\\nour proposed design recommendations on how to design for trust in AI-powered\\\\ncode generation tools.\", \\'pdf_url\\': \\'http://arxiv.org/pdf/2305.11248v2\\'}, {\\'title\\': \\'Generative AI Application for Building Industry\\', \\'authors\\': [\\'Hanlong Wan\\', \\'Jian Zhang\\', \\'Yan Chen\\', \\'Weili Xu\\', \\'Fan Feng\\'], \\'published\\': \\'2024-10-01\\', \\'abstract\\': \\'This paper investigates the transformative potential of generative AI\\\\ntechnologies, particularly large language models (LLMs), within the building\\\\nindustry. By leveraging these advanced AI tools, the study explores their\\\\napplication across key areas such as energy code compliance, building design\\\\noptimization, and workforce training. The research highlights how LLMs can\\\\nautomate labor-intensive processes, significantly improving efficiency,\\\\naccuracy, and safety in building practices. The paper also addresses the\\\\nchallenges associated with interpreting complex visual and textual data in\\\\narchitectural plans and regulatory codes, proposing innovative solutions to\\\\nenhance AI-driven compliance checking and design processes. Additionally, the\\\\nstudy considers the broader implications of AI integration, including the\\\\ndevelopment of AI-powered tools for comprehensive code compliance across\\\\nvarious regulatory domains and the potential for AI to revolutionize workforce\\\\ntraining through realistic simulations. This paper provides a comprehensive\\\\nanalysis of the current capabilities of generative AI in the building industry\\\\nwhile outlining future directions for research and development, aiming to pave\\\\nthe way for smarter, more sustainable, and responsive construction practices.\\', \\'pdf_url\\': \\'http://arxiv.org/pdf/2410.01098v1\\'}, {\\'title\\': \\'Beyond Text: Implementing Multimodal Large Language Model-Powered Multi-Agent Systems Using a No-Code Platform\\', \\'authors\\': [\\'Cheonsu Jeong\\'], \\'published\\': \\'2025-01-01\\', \\'abstract\\': \\'This study proposes the design and implementation of a multimodal LLM-based\\\\nMulti-Agent System (MAS) leveraging a No-Code platform to address the practical\\\\nconstraints and significant entry barriers associated with AI adoption in\\\\nenterprises. Advanced AI technologies, such as Large Language Models (LLMs),\\\\noften pose challenges due to their technical complexity and high implementation\\\\ncosts, making them difficult for many organizations to adopt. To overcome these\\\\nlimitations, this research develops a No-Code-based Multi-Agent System designed\\\\nto enable users without programming knowledge to easily build and manage AI\\\\nsystems. The study examines various use cases to validate the applicability of\\\\nAI in business processes, including code generation from image-based notes,\\\\nAdvanced RAG-based question-answering systems, text-based image generation, and\\\\nvideo generation using images and prompts. These systems lower the barriers to\\\\nAI adoption, empowering not only professional developers but also general users\\\\nto harness AI for significantly improved productivity and efficiency. By\\\\ndemonstrating the scalability and accessibility of No-Code platforms, this\\\\nstudy advances the democratization of AI technologies within enterprises and\\\\nvalidates the practical applicability of Multi-Agent Systems, ultimately\\\\ncontributing to the widespread adoption of AI across various industries.\\', \\'pdf_url\\': \\'http://arxiv.org/pdf/2501.00750v2\\'}, {\\'title\\': \\'AutoGen Studio: A No-Code Developer Tool for Building and Debugging Multi-Agent Systems\\', \\'authors\\': [\\'Victor Dibia\\', \\'Jingya Chen\\', \\'Gagan Bansal\\', \\'Suff Syed\\', \\'Adam Fourney\\', \\'Erkang Zhu\\', \\'Chi Wang\\', \\'Saleema Amershi\\'], \\'published\\': \\'2024-08-09\\', \\'abstract\\': \\'Multi-agent systems, where multiple agents (generative AI models + tools)\\\\ncollaborate, are emerging as an effective pattern for solving long-running,\\\\ncomplex tasks in numerous domains. However, specifying their parameters (such\\\\nas models, tools, and orchestration mechanisms etc,.) and debugging them\\\\nremains challenging for most developers. To address this challenge, we present\\\\nAUTOGEN STUDIO, a no-code developer tool for rapidly prototyping, debugging,\\\\nand evaluating multi-agent workflows built upon the AUTOGEN framework. AUTOGEN\\\\nSTUDIO offers a web interface and a Python API for representing LLM-enabled\\\\nagents using a declarative (JSON-based) specification. It provides an intuitive\\\\ndrag-and-drop UI for agent workflow specification, interactive evaluation and\\\\ndebugging of workflows, and a gallery of reusable agent components. We\\\\nhighlight four design principles for no-code multi-agent developer tools and\\\\ncontribute an open-source implementation at\\\\nhttps://github.com/microsoft/autogen/tree/main/samples/apps/autogen-studio\\', \\'pdf_url\\': \\'http://arxiv.org/pdf/2408.15247v1\\'}, {\\'title\\': \\'Prompt Sapper: A LLM-Empowered Production Tool for Building AI Chains\\', \\'authors\\': [\\'Yu Cheng\\', \\'Jieshan Chen\\', \\'Qing Huang\\', \\'Zhenchang Xing\\', \\'Xiwei Xu\\', \\'Qinghua Lu\\'], \\'published\\': \\'2023-06-21\\', \\'abstract\\': \\'The emergence of foundation models, such as large language models (LLMs)\\\\nGPT-4 and text-to-image models DALL-E, has opened up numerous possibilities\\\\nacross various domains. People can now use natural language (i.e. prompts) to\\\\ncommunicate with AI to perform tasks. While people can use foundation models\\\\nthrough chatbots (e.g., ChatGPT), chat, regardless of the capabilities of the\\\\nunderlying models, is not a production tool for building reusable AI services.\\\\nAPIs like LangChain allow for LLM-based application development but require\\\\nsubstantial programming knowledge, thus posing a barrier. To mitigate this, we\\\\npropose the concept of AI chain and introduce the best principles and practices\\\\nthat have been accumulated in software engineering for decades into AI chain\\\\nengineering, to systematise AI chain engineering methodology. We also develop a\\\\nno-code integrated development environment, Prompt Sapper, which embodies these\\\\nAI chain engineering principles and patterns naturally in the process of\\\\nbuilding AI chains, thereby improving the performance and quality of AI chains.\\\\nWith Prompt Sapper, AI chain engineers can compose prompt-based AI services on\\\\ntop of foundation models through chat-based requirement analysis and visual\\\\nprogramming. Our user study evaluated and demonstrated the efficiency and\\\\ncorrectness of Prompt Sapper.\\', \\'pdf_url\\': \\'http://arxiv.org/pdf/2306.12028v2\\'}]', name='arxiv_search', call_id='call_hTYppMGP2A74b8IYs4kfra8u', is_error=False)]\n",
      "---------- Arxiv_Search_Agent ----------\n",
      "[{'title': 'Investigating and Designing for Trust in AI-powered Code Generation Tools', 'authors': ['Ruotong Wang', 'Ruijia Cheng', 'Denae Ford', 'Thomas Zimmermann'], 'published': '2023-05-18', 'abstract': \"As AI-powered code generation tools such as GitHub Copilot become popular, it\\nis crucial to understand software developers' trust in AI tools -- a key factor\\nfor tool adoption and responsible usage. However, we know little about how\\ndevelopers build trust with AI, nor do we understand how to design the\\ninterface of generative AI systems to facilitate their appropriate levels of\\ntrust. In this paper, we describe findings from a two-stage qualitative\\ninvestigation. We first interviewed 17 developers to contextualize their\\nnotions of trust and understand their challenges in building appropriate trust\\nin AI code generation tools. We surfaced three main challenges -- including\\nbuilding appropriate expectations, configuring AI tools, and validating AI\\nsuggestions. To address these challenges, we conducted a design probe study in\\nthe second stage to explore design concepts that support developers'\\ntrust-building process by 1) communicating AI performance to help users set\\nproper expectations, 2) allowing users to configure AI by setting and adjusting\\npreferences, and 3) offering indicators of model mechanism to support\\nevaluation of AI suggestions. We gathered developers' feedback on how these\\ndesign concepts can help them build appropriate trust in AI-powered code\\ngeneration tools, as well as potential risks in design. These findings inform\\nour proposed design recommendations on how to design for trust in AI-powered\\ncode generation tools.\", 'pdf_url': 'http://arxiv.org/pdf/2305.11248v2'}, {'title': 'Generative AI Application for Building Industry', 'authors': ['Hanlong Wan', 'Jian Zhang', 'Yan Chen', 'Weili Xu', 'Fan Feng'], 'published': '2024-10-01', 'abstract': 'This paper investigates the transformative potential of generative AI\\ntechnologies, particularly large language models (LLMs), within the building\\nindustry. By leveraging these advanced AI tools, the study explores their\\napplication across key areas such as energy code compliance, building design\\noptimization, and workforce training. The research highlights how LLMs can\\nautomate labor-intensive processes, significantly improving efficiency,\\naccuracy, and safety in building practices. The paper also addresses the\\nchallenges associated with interpreting complex visual and textual data in\\narchitectural plans and regulatory codes, proposing innovative solutions to\\nenhance AI-driven compliance checking and design processes. Additionally, the\\nstudy considers the broader implications of AI integration, including the\\ndevelopment of AI-powered tools for comprehensive code compliance across\\nvarious regulatory domains and the potential for AI to revolutionize workforce\\ntraining through realistic simulations. This paper provides a comprehensive\\nanalysis of the current capabilities of generative AI in the building industry\\nwhile outlining future directions for research and development, aiming to pave\\nthe way for smarter, more sustainable, and responsive construction practices.', 'pdf_url': 'http://arxiv.org/pdf/2410.01098v1'}, {'title': 'Beyond Text: Implementing Multimodal Large Language Model-Powered Multi-Agent Systems Using a No-Code Platform', 'authors': ['Cheonsu Jeong'], 'published': '2025-01-01', 'abstract': 'This study proposes the design and implementation of a multimodal LLM-based\\nMulti-Agent System (MAS) leveraging a No-Code platform to address the practical\\nconstraints and significant entry barriers associated with AI adoption in\\nenterprises. Advanced AI technologies, such as Large Language Models (LLMs),\\noften pose challenges due to their technical complexity and high implementation\\ncosts, making them difficult for many organizations to adopt. To overcome these\\nlimitations, this research develops a No-Code-based Multi-Agent System designed\\nto enable users without programming knowledge to easily build and manage AI\\nsystems. The study examines various use cases to validate the applicability of\\nAI in business processes, including code generation from image-based notes,\\nAdvanced RAG-based question-answering systems, text-based image generation, and\\nvideo generation using images and prompts. These systems lower the barriers to\\nAI adoption, empowering not only professional developers but also general users\\nto harness AI for significantly improved productivity and efficiency. By\\ndemonstrating the scalability and accessibility of No-Code platforms, this\\nstudy advances the democratization of AI technologies within enterprises and\\nvalidates the practical applicability of Multi-Agent Systems, ultimately\\ncontributing to the widespread adoption of AI across various industries.', 'pdf_url': 'http://arxiv.org/pdf/2501.00750v2'}, {'title': 'AutoGen Studio: A No-Code Developer Tool for Building and Debugging Multi-Agent Systems', 'authors': ['Victor Dibia', 'Jingya Chen', 'Gagan Bansal', 'Suff Syed', 'Adam Fourney', 'Erkang Zhu', 'Chi Wang', 'Saleema Amershi'], 'published': '2024-08-09', 'abstract': 'Multi-agent systems, where multiple agents (generative AI models + tools)\\ncollaborate, are emerging as an effective pattern for solving long-running,\\ncomplex tasks in numerous domains. However, specifying their parameters (such\\nas models, tools, and orchestration mechanisms etc,.) and debugging them\\nremains challenging for most developers. To address this challenge, we present\\nAUTOGEN STUDIO, a no-code developer tool for rapidly prototyping, debugging,\\nand evaluating multi-agent workflows built upon the AUTOGEN framework. AUTOGEN\\nSTUDIO offers a web interface and a Python API for representing LLM-enabled\\nagents using a declarative (JSON-based) specification. It provides an intuitive\\ndrag-and-drop UI for agent workflow specification, interactive evaluation and\\ndebugging of workflows, and a gallery of reusable agent components. We\\nhighlight four design principles for no-code multi-agent developer tools and\\ncontribute an open-source implementation at\\nhttps://github.com/microsoft/autogen/tree/main/samples/apps/autogen-studio', 'pdf_url': 'http://arxiv.org/pdf/2408.15247v1'}, {'title': 'Prompt Sapper: A LLM-Empowered Production Tool for Building AI Chains', 'authors': ['Yu Cheng', 'Jieshan Chen', 'Qing Huang', 'Zhenchang Xing', 'Xiwei Xu', 'Qinghua Lu'], 'published': '2023-06-21', 'abstract': 'The emergence of foundation models, such as large language models (LLMs)\\nGPT-4 and text-to-image models DALL-E, has opened up numerous possibilities\\nacross various domains. People can now use natural language (i.e. prompts) to\\ncommunicate with AI to perform tasks. While people can use foundation models\\nthrough chatbots (e.g., ChatGPT), chat, regardless of the capabilities of the\\nunderlying models, is not a production tool for building reusable AI services.\\nAPIs like LangChain allow for LLM-based application development but require\\nsubstantial programming knowledge, thus posing a barrier. To mitigate this, we\\npropose the concept of AI chain and introduce the best principles and practices\\nthat have been accumulated in software engineering for decades into AI chain\\nengineering, to systematise AI chain engineering methodology. We also develop a\\nno-code integrated development environment, Prompt Sapper, which embodies these\\nAI chain engineering principles and patterns naturally in the process of\\nbuilding AI chains, thereby improving the performance and quality of AI chains.\\nWith Prompt Sapper, AI chain engineers can compose prompt-based AI services on\\ntop of foundation models through chat-based requirement analysis and visual\\nprogramming. Our user study evaluated and demonstrated the efficiency and\\ncorrectness of Prompt Sapper.', 'pdf_url': 'http://arxiv.org/pdf/2306.12028v2'}]\n",
      "---------- Report_Agent ----------\n",
      "### Literature Review: No-Code Tools for Building Multi-Agent AI Systems\n",
      "\n",
      "The development and deployment of multi-agent AI systems (MAS) have traditionally required significant expertise in programming, AI model orchestration, and debugging. However, the emergence of no-code platforms is revolutionizing this landscape, enabling users with limited technical proficiency to design, implement, and manage MAS. This literature review synthesizes the current state of research and development in no-code tools for building multi-agent AI systems.\n",
      "\n",
      "#### 1. The Role of No-Code Platforms in Multi-Agent Systems\n",
      "No-code platforms aim to lower the barriers to AI adoption by abstracting the complexities of programming and system orchestration. By leveraging graphical user interfaces, declarative specifications, and pre-built components, these platforms empower users to create MAS without writing code. This democratization is crucial for organizations and individuals lacking deep technical expertise but seeking to harness the power of advanced AI systems.\n",
      "\n",
      "Jeong (2025) provides a comprehensive overview of how no-code platforms can address practical constraints and entry barriers associated with AI adoption. By enabling users to build and manage MAS through intuitive interfaces, these systems allow for multifaceted applications such as code generation from image-based notes, question-answering systems, and multimedia content creation. The study emphasizes that no-code platforms not only enhance accessibility but also promote scalability and efficiency in AI-driven workflows (Jeong, 2025).\n",
      "\n",
      "#### 2. Key Features of No-Code Multi-Agent AI Development Tools\n",
      "Modern no-code tools integrate advanced functionalities to support the design and deployment of multi-agent systems. These features typically include:\n",
      "- **Declarative Workflow Specification**: Tools like AutoGen Studio provide JSON-based specifications for defining agent workflows. This approach simplifies the complex task of orchestrating AI agents and tools (Dibia et al., 2024).\n",
      "- **Drag-and-Drop Interfaces**: Intuitive graphical interfaces allow users to design workflows visually, reducing the cognitive load associated with programming (Dibia et al., 2024).\n",
      "- **Reusable Components**: Libraries of pre-built agent components enable rapid prototyping and reuse of functional modules (Dibia et al., 2024).\n",
      "- **Interactive Debugging**: Real-time evaluation and debugging tools help users refine workflows by providing immediate feedback on system behavior (Dibia et al., 2024).\n",
      "\n",
      "#### 3. Applications of No-Code Multi-Agent Systems\n",
      "The versatility of no-code platforms has enabled a wide range of applications in both business and creative domains. For instance:\n",
      "- **Generative AI Applications**: Tools like Prompt Sapper allow users to compose prompt-based AI services for tasks such as natural language processing, image generation, and complex reasoning. This integration of software engineering principles into AI chain development improves the quality and performance of AI services (Cheng et al., 2023).\n",
      "- **Enterprise Use Cases**: No-code MAS platforms support business-specific needs, including compliance checking, workflow automation, and workforce training. These systems streamline operations and enhance productivity while reducing technical overhead (Wan et al., 2024).\n",
      "- **Collaborative Problem Solving**: Multi-agent systems facilitate long-running, complex tasks by enabling multiple AI agents to collaborate. For example, AutoGen Studio supports the design of collaborative AI workflows for domains such as customer service and content generation (Dibia et al., 2024).\n",
      "\n",
      "#### 4. Challenges and Future Directions\n",
      "Despite their potential, no-code platforms face several challenges:\n",
      "- **Trust and Usability**: Developers often struggle to trust AI tools due to a lack of transparency in model mechanisms. Enhancing user trust requires tools to communicate AI performance effectively and provide mechanisms for validating AI outputs (Wang et al., 2023).\n",
      "- **Scalability and Adaptability**: While no-code platforms are effective for prototyping, scaling these systems for enterprise-level deployment remains a challenge. Future research should explore how to optimize these platforms for larger and more complex use cases (Jeong, 2025).\n",
      "- **Interoperability**: Ensuring seamless integration with existing systems and workflows is critical for the widespread adoption of no-code MAS tools (Cheng et al., 2023).\n",
      "\n",
      "#### 5. Conclusion\n",
      "No-code tools for building multi-agent AI systems represent a transformative shift in the field of AI development. By lowering technical barriers, these platforms empower a broader range of users to leverage AI technologies effectively. Research efforts such as those by Dibia et al. (2024), Jeong (2025), and Cheng et al. (2023) underscore the potential of no-code MAS platforms to democratize AI and enhance productivity across various domains. However, addressing challenges related to trust, scalability, and interoperability will be crucial for the continued evolution of these tools.\n",
      "\n",
      "### References\n",
      "- Cheng, Y., Chen, J., Huang, Q., Xing, Z., Xu, X., & Lu, Q. (2023). Prompt Sapper: A LLM-Empowered Production Tool for Building AI Chains. arXiv. Retrieved from http://arxiv.org/pdf/2306.12028v2\n",
      "- Dibia, V., Chen, J., Bansal, G., Syed, S., Fourney, A., Zhu, E., Wang, C., & Amershi, S. (2024). AutoGen Studio: A No-Code Developer Tool for Building and Debugging Multi-Agent Systems. arXiv. Retrieved from http://arxiv.org/pdf/2408.15247v1\n",
      "- Jeong, C. (2025). Beyond Text: Implementing Multimodal Large Language Model-Powered Multi-Agent Systems Using a No-Code Platform. arXiv. Retrieved from http://arxiv.org/pdf/2501.00750v2\n",
      "- Wan, H., Zhang, J., Chen, Y., Xu, W., & Feng, F. (2024). Generative AI Application for Building Industry. arXiv. Retrieved from http://arxiv.org/pdf/2410.01098v1\n",
      "- Wang, R., Cheng, R., Ford, D., & Zimmermann, T. (2023). Investigating and Designing for Trust in AI-powered Code Generation Tools. arXiv. Retrieved from http://arxiv.org/pdf/2305.11248v2\n",
      "\n",
      "TERMINATE\n"
     ]
    }
   ],
   "source": [
    "await Console(\n",
    "    team.run_stream(\n",
    "        task=\"Write a literature review on no code tools for building multi agent ai systems\",\n",
    "    )\n",
    ")\n",
    "\n",
    "await model_client.close()\n"
   ]
  }
 ],
 "metadata": {
  "kernelspec": {
   "display_name": ".venv",
   "language": "python",
   "name": "python3"
  },
  "language_info": {
   "codemirror_mode": {
    "name": "ipython",
    "version": 3
   },
   "file_extension": ".py",
   "mimetype": "text/x-python",
   "name": "python",
   "nbconvert_exporter": "python",
   "pygments_lexer": "ipython3",
   "version": "3.13.2"
  }
 },
 "nbformat": 4,
 "nbformat_minor": 5
}
