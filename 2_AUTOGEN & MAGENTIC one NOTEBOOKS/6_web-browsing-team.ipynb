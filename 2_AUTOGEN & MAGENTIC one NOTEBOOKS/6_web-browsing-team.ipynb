{
 "cells": [
  {
   "cell_type": "code",
   "execution_count": null,
   "id": "0577a9d4",
   "metadata": {},
   "outputs": [],
   "source": [
    "# pip install -U autogen-agentchat autogen-ext[openai,web-surfer]\n",
    "# playwright install\n",
    "#%pip install python.dotenv"
   ]
  },
  {
   "cell_type": "markdown",
   "id": "0b4f6d1e",
   "metadata": {},
   "source": [
    "## Example using the ROUND ROBING GROUPCHAT team with a USER PROXY AGENT and a MULTIMODAL WEBSURFER"
   ]
  },
  {
   "cell_type": "code",
   "execution_count": null,
   "id": "83518496",
   "metadata": {},
   "outputs": [],
   "source": [
    "import sys\n",
    "import asyncio\n",
    "from autogen_agentchat.agents import UserProxyAgent\n",
    "from autogen_agentchat.conditions import TextMentionTermination\n",
    "from autogen_agentchat.teams import RoundRobinGroupChat\n",
    "from autogen_agentchat.ui import Console\n",
    "from autogen_ext.models.openai import AzureOpenAIChatCompletionClient\n",
    "from autogen_ext.agents.web_surfer import MultimodalWebSurfer\n",
    "from autogen_agentchat.teams import MagenticOneGroupChat\n",
    "from dotenv import load_dotenv\n",
    "\n",
    "from settings import llm_config\n",
    "load_dotenv()\n"
   ]
  },
  {
   "cell_type": "code",
   "execution_count": null,
   "id": "9e682e40",
   "metadata": {},
   "outputs": [],
   "source": [
    "model_client = AzureOpenAIChatCompletionClient.load_component(llm_config)"
   ]
  },
  {
   "cell_type": "markdown",
   "id": "24505218",
   "metadata": {},
   "source": [
    "## Orchestrator will control the web broweser automatically"
   ]
  },
  {
   "cell_type": "code",
   "execution_count": null,
   "id": "1ba91097",
   "metadata": {},
   "outputs": [],
   "source": [
    "async def main() -> None:\n",
    "\n",
    "    surfer = MultimodalWebSurfer(\n",
    "        \"MultimodalWebSurfer\",\n",
    "        model_client=model_client,\n",
    "        downloads_folder=\"./downs\",\n",
    "        debug_dir=\"./debug\",\n",
    "        headless = False,\n",
    "        to_resize_viewport=True,\n",
    "        description=\"A web surfing assistant that can browse and interact with web pages.\",\n",
    "        start_page=\"https://www.google.com\",  # Optional: Initial page\n",
    "        animate_actions=True,\n",
    "        browser_data_dir=\"./browser_data\",\n",
    "    )\n",
    "    \n",
    "    team = MagenticOneGroupChat([surfer], model_client=model_client, max_turns=3)\n",
    "    # Define a team\n",
    "    # team = RoundRobinGroupChat([surfer], max_turns=3)\n",
    "    #await Console(team.run_stream(task=\"Navigate to the AutoGen readme on GitHub.\"))\n",
    "    #await Console(team.run_stream(task=\"Summarize latest updates from Accenture newsroowm.\"))\n",
    "    #await Console(team.run_stream(task=\"Summarize latest news from venture beat all things in AI.\"))\n",
    "    await Console(team.run_stream(task=\"Find information about the latest iPhone.\"))\n",
    "    #await Console(team.run_stream(task=\"what NHL games are happening today, and tell me about the teams playing\"))\n",
    "    #await Console(team.run_stream(task=\"what is the weather like in Toronto today, and what is the weather like in New York today?\"))\n",
    "    await surfer.close()\n",
    "\n",
    "\n",
    "if __name__ == \"__main__\":\n",
    "    if sys.platform == \"win32\":\n",
    "        asyncio.set_event_loop_policy(asyncio.WindowsProactorEventLoopPolicy())\n",
    "await main()"
   ]
  }
 ],
 "metadata": {
  "kernelspec": {
   "display_name": ".venv",
   "language": "python",
   "name": "python3"
  },
  "language_info": {
   "codemirror_mode": {
    "name": "ipython",
    "version": 3
   },
   "file_extension": ".py",
   "mimetype": "text/x-python",
   "name": "python",
   "nbconvert_exporter": "python",
   "pygments_lexer": "ipython3",
   "version": "3.13.3"
  }
 },
 "nbformat": 4,
 "nbformat_minor": 5
}
