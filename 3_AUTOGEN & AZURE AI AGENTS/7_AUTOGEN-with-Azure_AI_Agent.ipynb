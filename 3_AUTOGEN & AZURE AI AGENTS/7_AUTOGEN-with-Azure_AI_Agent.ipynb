{
 "cells": [
  {
   "cell_type": "markdown",
   "id": "dffd732e",
   "metadata": {},
   "source": [
    "## Example of using AUTOGEN using 1 Azure AI agent, via AI Foundry and all the main AI Agents tools"
   ]
  },
  {
   "cell_type": "code",
   "execution_count": 1,
   "id": "15c3ad1f",
   "metadata": {},
   "outputs": [],
   "source": [
    "import asyncio\n",
    "import os\n",
    "import tempfile\n",
    "import urllib.request\n",
    "\n",
    "from autogen_agentchat.messages import TextMessage\n",
    "from autogen_core import CancellationToken\n",
    "from autogen_ext.agents.azure._azure_ai_agent import AzureAIAgent\n",
    "from azure.ai.projects.aio import AIProjectClient\n",
    "from azure.identity.aio import DefaultAzureCredential\n",
    "import azure.ai.projects.models as models\n",
    "from dotenv import load_dotenv\n",
    "load_dotenv()\n",
    "import yaml\n",
    "\n"
   ]
  },
  {
   "cell_type": "markdown",
   "id": "08dcdf3c",
   "metadata": {},
   "source": [
    "### get connection to AI Foundry project and Big Grounding service in Azure.\n",
    "\n",
    "- create & run an AI Agent that uses BING grounding"
   ]
  },
  {
   "cell_type": "code",
   "execution_count": 2,
   "id": "7739a5c9",
   "metadata": {},
   "outputs": [
    {
     "name": "stdout",
     "output_type": "stream",
     "text": [
      "Microsoft's annual leave policy typically varies depending on the country, local labor laws, and employee contract type. However, as a general guideline, Microsoft offers generous vacation and leave benefits to its employees, including:\n",
      "\n",
      "1. **Paid Time Off (PTO):** Microsoft provides paid vacation time, often around 15-20 vacation days per year for full-time employees in the United States. The accrual rate may vary based on years of service and employment type.\n",
      "\n",
      "2. **Holidays:** Microsoft usually observes public holidays, with additional floating holidays that employees can use for other days of significance (e.g., cultural or religious celebrations).\n",
      "\n",
      "3. **Sick Leave:** Employees are entitled to sick leave, which varies per jurisdiction. In the United States, it includes specific sick and safe leave policies.\n",
      "\n",
      "4. **Parental Leave:** Microsoft offers extensive parental leave policies. In the U.S., for example, parents can get up to 12 weeks of paid parental leave or 20 weeks for birth mothers.\n",
      "\n",
      "5. **Other Types of Leave:** Microsoft includes other benefits such as bereavement leave, jury duty leave, and sabbatical leave (often after longer tenure).\n",
      "\n",
      "In countries outside the U.S., the specifics depend on local policies, labor laws, and employment standards. You can refer to Microsoft’s official HR documentation or reach out directly to Microsoft HR for exact details tailored to a location or role.\n"
     ]
    }
   ],
   "source": [
    "async def bing_example():\n",
    "    # Ensure required environment variables are set.\n",
    "    conn_str = os.getenv(\"AI_PROJECT_CONNECTION_STRING\")\n",
    "    bing_conn_name = os.getenv(\"BING_CONNECTION_NAME\")\n",
    "    if not conn_str:\n",
    "        raise ValueError(\"The environment variable AI_PROJECT_CONNECTION_STRING is required.\")\n",
    "    if not bing_conn_name:\n",
    "        raise ValueError(\"The environment variable BING_CONNECTION_NAME is required.\")\n",
    "\n",
    "    credential = DefaultAzureCredential()\n",
    "\n",
    "    async with AIProjectClient.from_connection_string(  # type: ignore\n",
    "        credential=credential, conn_str=conn_str\n",
    "    ) as project_client:\n",
    "        conn = await project_client.connections.get(connection_name=bing_conn_name)\n",
    "\n",
    "        bing_tool = models.BingGroundingTool(conn.id)\n",
    "        agent_with_bing_grounding = AzureAIAgent(\n",
    "            name=\"AQ_bing_agent\",\n",
    "            description=\"An AI assistant with Bing grounding\",\n",
    "            project_client=project_client,\n",
    "            deployment_name=\"gpt-4o\",\n",
    "            instructions=\"You are a helpful assistant.\",\n",
    "            tools=bing_tool.definitions,\n",
    "            metadata={\"source\": \"AzureAIAgent\"},\n",
    "        )\n",
    "\n",
    "        result = await agent_with_bing_grounding.on_messages(\n",
    "            messages=[TextMessage(content=\"What is Microsoft's annual leave policy?\", source=\"user\")],\n",
    "            cancellation_token=CancellationToken(),\n",
    "            message_limit=5,\n",
    "        )\n",
    "        #print(result)\n",
    "        print(result.chat_message.content)\n",
    "\n",
    "if __name__ == \"__main__\":\n",
    "    await(bing_example())\n"
   ]
  },
  {
   "cell_type": "markdown",
   "id": "fef1038d",
   "metadata": {},
   "source": [
    "### create agent that uses the FILE SEARCH tool"
   ]
  },
  {
   "cell_type": "code",
   "execution_count": 3,
   "id": "73bdc9fa",
   "metadata": {},
   "outputs": [
    {
     "name": "stdout",
     "output_type": "stream",
     "text": [
      "Downloaded README.md to /var/folders/dj/qp0fwj152ks28q9cn0_rd3fw0000gn/T/tmpn84lf_80.md\n",
      "AutoGen is a framework designed to create multi-agent AI applications. It provides tools and APIs for developing autonomous agents or systems that collaborate with humans. Its layered, extensible design makes it suitable for workflows ranging from high-level abstractions to low-level components.\n",
      "\n",
      "### Key Capabilities:\n",
      "1. **Core Features:**\n",
      "   - **Core API**: Implements messaging, event-driven agents, and distributed runtime supporting Python and .NET.\n",
      "   - **AgentChat API**: Specifically for rapid prototyping with common multi-agent configurations like two-agent or group chats.\n",
      "   - **Extensions API**: Adds capabilities like LLM clients (e.g., OpenAI, Azure services), code execution, and third-party extensions【4:1†source】【4:3†source】【4:4†source】.\n",
      "\n",
      "2. **Developer Tools:**\n",
      "   - **AutoGen Studio**: A no-code graphical user interface (GUI) for creating multi-agent applications.\n",
      "   - **AutoGen Bench**: Benchmarks agent performance【4:1†source】【4:3†source】.\n",
      "\n",
      "3. **Multi-Agent Applications:** \n",
      "   - Enables complex scenarios such as web browsing, code execution, and automated workflows through collaboration between agents【4:1†source】【4:3†source】【4:4†source】.\n",
      "\n",
      "4. **Community Support:** \n",
      "   - Offers office hours, tutorials, Q&A through GitHub discussions, Discord, and blogs【4:1†source】.\n",
      "\n",
      "This framework is compatible with Python versions 3.10 and later, allowing developers to integrate LLM models efficiently, including OpenAI's GPT models【4:5†source】【4:6†source】.\n",
      "Removed temporary file /var/folders/dj/qp0fwj152ks28q9cn0_rd3fw0000gn/T/tmpn84lf_80.md\n"
     ]
    }
   ],
   "source": [
    "\n",
    "async def file_search_example():\n",
    "    # Download README.md from GitHub\n",
    "    readme_url = \"https://raw.githubusercontent.com/microsoft/autogen/refs/heads/main/README.md\"\n",
    "    temp_file = None\n",
    "\n",
    "    try:\n",
    "        # Create a temporary file to store the downloaded README\n",
    "        temp_file = tempfile.NamedTemporaryFile(delete=False, suffix=\".md\")\n",
    "        urllib.request.urlretrieve(readme_url, temp_file.name)\n",
    "        print(f\"Downloaded README.md to {temp_file.name}\")\n",
    "\n",
    "        credential = DefaultAzureCredential()\n",
    "        async with AIProjectClient.from_connection_string(  # type: ignore\n",
    "            credential=credential, conn_str=os.getenv(\"AI_PROJECT_CONNECTION_STRING\", \"\")\n",
    "        ) as project_client:\n",
    "            agent_with_file_search = AzureAIAgent(\n",
    "                name=\"AQ_file_search_agent\",\n",
    "                description=\"An AI assistant with file search capabilities\",\n",
    "                project_client=project_client,\n",
    "                deployment_name=\"gpt-4o\",\n",
    "                instructions=\"You are a helpful assistant.\",\n",
    "                tools=[\"file_search\"],\n",
    "                metadata={\"source\": \"AzureAIAgent\"},\n",
    "            )\n",
    "\n",
    "            ct: CancellationToken = CancellationToken()\n",
    "            # Use the downloaded README file for file search\n",
    "            await agent_with_file_search.on_upload_for_file_search(\n",
    "                file_paths=[temp_file.name],\n",
    "                vector_store_name=\"file_upload_index\",\n",
    "                vector_store_metadata={\"source\": \"AzureAIAgent\"},\n",
    "                cancellation_token=ct,\n",
    "            )\n",
    "            result = await agent_with_file_search.on_messages(\n",
    "                messages=[\n",
    "                    TextMessage(content=\"Hello, what is AutoGen and what capabilities does it have?\", source=\"user\")\n",
    "                ],\n",
    "                cancellation_token=ct,\n",
    "                message_limit=5,\n",
    "            )\n",
    "            print(result.chat_message.content)\n",
    "    finally:\n",
    "        # Clean up the temporary file\n",
    "        if temp_file and os.path.exists(temp_file.name):\n",
    "            os.unlink(temp_file.name)\n",
    "            print(f\"Removed temporary file {temp_file.name}\")\n",
    "\n",
    "if __name__ == \"__main__\":\n",
    "    await(file_search_example())\n"
   ]
  },
  {
   "cell_type": "markdown",
   "id": "136f4f75",
   "metadata": {},
   "source": [
    "### Agent that uses the CODE INTERPRETER tool in Azure AI agents"
   ]
  },
  {
   "cell_type": "code",
   "execution_count": 5,
   "id": "1b2f7b52",
   "metadata": {},
   "outputs": [
    {
     "name": "stdout",
     "output_type": "stream",
     "text": [
      "Here is a markdown table summarizing the number of stocks per industry:\n",
      "\n",
      "| Industry                            | Number of Stocks |\n",
      "|-------------------------------------|------------------|\n",
      "| PHARMACEUTICALS                     | 33               |\n",
      "| BANKS                               | 28               |\n",
      "| AUTO PARTS & EQUIPMENT              | 20               |\n",
      "| IT CONSULTING & SOFTWARE            | 19               |\n",
      "| SPECIALTY CHEMICALS                 | 18               |\n",
      "| FINANCE (INCLUDING NBFCS)           | 17               |\n",
      "| ELECTRIC UTILITIES                  | 14               |\n",
      "| INTERNET SOFTWARE & SERVICES        | 14               |\n",
      "| CEMENT & CEMENT PRODUCTS            | 13               |\n",
      "| REALTY                              | 11               |\n",
      "| IRON & STEEL/INTERM.PRODUCTS        | 9                |\n",
      "| HEAVY ELECTRICAL EQUIPMENT          | 9                |\n",
      "| PERSONAL PRODUCTS                   | 9                |\n",
      "| INDUSTRIAL MACHINERY                | 9                |\n",
      "| OTHER ELECTRICAL EQUIPMENT/PRODUCTS | 9                |\n",
      "| CONSTRUCTION & ENGINEERING          | 8                |\n",
      "| HEALTHCARE FACILITIES               | 8                |\n",
      "| HOUSING FINANCE                     | 8                |\n",
      "| FURNITURE-FURNISHING-PAINTS         | 7                |\n",
      "| CONSUMER ELECTRONICS                | 7                |\n",
      "\n",
      "The table is truncated for readability but can be expanded to include all industries from the dataset. Let me know if you'd like the complete table exported or filtered further!\n"
     ]
    }
   ],
   "source": [
    "\n",
    "\n",
    "\n",
    "async def code_interpreter_example():\n",
    "    credential = DefaultAzureCredential()\n",
    "    async with AIProjectClient.from_connection_string(  # type: ignore\n",
    "        credential=credential, conn_str=os.getenv(\"AI_PROJECT_CONNECTION_STRING\", \"\")\n",
    "    ) as project_client:\n",
    "        agent_with_code_interpreter = AzureAIAgent(\n",
    "            name=\"code_interpreter_agent\",\n",
    "            description=\"An AI assistant with code interpreter capabilities\",\n",
    "            project_client=project_client,\n",
    "            deployment_name=\"gpt-4o\",\n",
    "            instructions=\"You are a helpful assistant.\",\n",
    "            tools=[\"code_interpreter\"],\n",
    "            metadata={\"source\": \"AzureAIAgent\"},\n",
    "        )\n",
    "\n",
    "        await agent_with_code_interpreter.on_upload_for_code_interpreter(\n",
    "            file_paths=\"./data/nifty_500_quarterly_results.csv\",\n",
    "            cancellation_token=CancellationToken(),\n",
    "        )\n",
    "\n",
    "        result = await agent_with_code_interpreter.on_messages(\n",
    "            messages=[\n",
    "                TextMessage(\n",
    "                    content=\"Aggregate the number of stocks per industry and give me a markdown table as a result?\",\n",
    "                    source=\"user\",\n",
    "                )\n",
    "            ],\n",
    "            cancellation_token=CancellationToken(),\n",
    "        )\n",
    "\n",
    "        print(result.chat_message.content)\n",
    "\n",
    "\n",
    "if __name__ == \"__main__\":\n",
    "\n",
    "    await(code_interpreter_example())\n",
    "\n"
   ]
  }
 ],
 "metadata": {
  "kernelspec": {
   "display_name": ".venv",
   "language": "python",
   "name": "python3"
  },
  "language_info": {
   "codemirror_mode": {
    "name": "ipython",
    "version": 3
   },
   "file_extension": ".py",
   "mimetype": "text/x-python",
   "name": "python",
   "nbconvert_exporter": "python",
   "pygments_lexer": "ipython3",
   "version": "3.13.3"
  }
 },
 "nbformat": 4,
 "nbformat_minor": 5
}
