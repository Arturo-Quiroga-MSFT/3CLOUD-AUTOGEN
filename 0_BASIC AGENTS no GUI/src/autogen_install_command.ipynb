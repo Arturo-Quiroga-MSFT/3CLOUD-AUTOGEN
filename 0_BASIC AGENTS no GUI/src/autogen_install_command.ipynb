{
 "cells": [
  {
   "cell_type": "code",
   "execution_count": null,
   "id": "c8fc430a",
   "metadata": {},
   "outputs": [],
   "source": [
    "%pip install -U \"autogen-agentchat\" \"autogen-ext[openai]\""
   ]
  }
 ],
 "metadata": {
  "kernelspec": {
   "display_name": ".venv",
   "language": "python",
   "name": "python3"
  },
  "language_info": {
   "name": "python",
   "version": "3.13.3"
  }
 },
 "nbformat": 4,
 "nbformat_minor": 5
}
